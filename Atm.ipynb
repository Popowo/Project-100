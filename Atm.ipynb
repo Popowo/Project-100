{
 "metadata": {
  "language_info": {
   "codemirror_mode": {
    "name": "ipython",
    "version": 3
   },
   "file_extension": ".py",
   "mimetype": "text/x-python",
   "name": "python",
   "nbconvert_exporter": "python",
   "pygments_lexer": "ipython3",
   "version": "3.9.0-final"
  },
  "orig_nbformat": 2,
  "kernelspec": {
   "name": "python3",
   "display_name": "Python 3.9.0 64-bit",
   "metadata": {
    "interpreter": {
     "hash": "77c1174591c117ba54aeeb0883243ca097c20e8fe9f4b78081e519837805eb01"
    }
   }
  }
 },
 "nbformat": 4,
 "nbformat_minor": 2,
 "cells": [
  {
   "cell_type": "code",
   "execution_count": 24,
   "metadata": {},
   "outputs": [
    {
     "output_type": "error",
     "ename": "AttributeError",
     "evalue": "'atm' object has no attribute 'getDetails'",
     "traceback": [
      "\u001b[1;31m---------------------------------------------------------------------------\u001b[0m",
      "\u001b[1;31mAttributeError\u001b[0m                            Traceback (most recent call last)",
      "\u001b[1;32m<ipython-input-24-a075dc1a56fc>\u001b[0m in \u001b[0;36m<module>\u001b[1;34m\u001b[0m\n\u001b[0;32m     20\u001b[0m     \u001b[0mcard\u001b[0m \u001b[1;33m=\u001b[0m \u001b[0matm\u001b[0m\u001b[1;33m(\u001b[0m\u001b[1;34m'12471418'\u001b[0m\u001b[1;33m,\u001b[0m \u001b[1;34m'1506'\u001b[0m\u001b[1;33m,\u001b[0m \u001b[1;34m'Kanav'\u001b[0m\u001b[1;33m,\u001b[0m \u001b[1;34m'VISA'\u001b[0m\u001b[1;33m,\u001b[0m \u001b[1;34m'12/12/12'\u001b[0m\u001b[1;33m)\u001b[0m\u001b[1;33m\u001b[0m\u001b[1;33m\u001b[0m\u001b[0m\n\u001b[0;32m     21\u001b[0m \u001b[1;33m\u001b[0m\u001b[0m\n\u001b[1;32m---> 22\u001b[1;33m \u001b[0mcard\u001b[0m\u001b[1;33m.\u001b[0m\u001b[0mgetDetails\u001b[0m\u001b[1;33m(\u001b[0m\u001b[1;33m)\u001b[0m\u001b[1;33m\u001b[0m\u001b[1;33m\u001b[0m\u001b[0m\n\u001b[0m",
      "\u001b[1;31mAttributeError\u001b[0m: 'atm' object has no attribute 'getDetails'"
     ]
    }
   ],
   "source": [
    "class atm(object):\n",
    "    def __init__(self,cardNumber, pinNumber, name, card_type, expiryDate):\n",
    "        self.cardNumber = cardNumber\n",
    "        self.pinNumber = pinNumber\n",
    "        self.name = name\n",
    "        self.expiryDate = expiryDate\n",
    "        self.type = type \n",
    "\n",
    "    def cashWithdrawal(self):\n",
    "        print('With Draw Cash')\n",
    "    def BalanceEnquiry(self):\n",
    "        print('Money Left?')\n",
    "    def getDetails(self):\n",
    "        print(self.cardNumber)\n",
    "        print(self.pinNumber)\n",
    "        print(self.name)\n",
    "        print(self.card_type)\n",
    "        print(self.expiryDate)\n",
    "\n",
    "card = atm('12471418', '1506', 'Kanav', 'VISA', '12/12/12')\n",
    "\n",
    "card.getDetails()"
   ]
  },
  {
   "cell_type": "code",
   "execution_count": null,
   "metadata": {},
   "outputs": [],
   "source": []
  }
 ]
}
